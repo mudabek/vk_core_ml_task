{
 "cells": [
  {
   "cell_type": "markdown",
   "metadata": {},
   "source": [
    "## Analysis of collaborative- and content-based recommendation systems\n",
    "#### Dataset: [MovieLens 20M](https://www.kaggle.com/datasets/grouplens/movielens-20m-dataset)\n",
    "##### Task for internship at VK Core ML"
   ]
  },
  {
   "cell_type": "markdown",
   "metadata": {},
   "source": [
    "#### Model Description"
   ]
  },
  {
   "cell_type": "markdown",
   "metadata": {},
   "source": [
    "I will build a two stage model. First stage will be collaborate filtering model (matrix factorization from LightFM library). The second stage will use the predictions from collaborative model along with the movie features to further reorder the ranks of the recommended movies. In the second stage I will use boosting model from the CatBoost library. Benefits of the approach: <br>\n",
    "- boosting model will only rearrange collaborative model's recommendations; ranking all the movies would be computationally heavy for boosting model\n",
    "- combines both approaches by effectively using the features\n",
    "- it has capacity of using multiple collaborative models (ensembling in the first stage) "
   ]
  },
  {
   "cell_type": "markdown",
   "metadata": {},
   "source": [
    "<center><img src=\"model.jpg\" alt=\"Drawing\" style=\"width: 450px;\"/></center>"
   ]
  },
  {
   "cell_type": "markdown",
   "metadata": {},
   "source": [
    "#### Train and Test Split"
   ]
  },
  {
   "cell_type": "markdown",
   "metadata": {},
   "source": [
    "I will initially split data into global train and test sets. They will be split based on temporal features (for example, train 1995-2001 and test 2011-2015). Different movies are popular at different period of times and temporal way of splitting data makes sense. <br>\n",
    "\n",
    "Train will further be split into two parts: one for training collaborative model and another one for training boosting model. Collaborative model will also be invdividually validated on the testing set. Boosting model's training set will have its own validation subset for early stopping of the model. <br>\n",
    "\n",
    "For general model's validation ideally it would be good to perform k-fold validation but due to limited amount of time I will not do that. <br>"
   ]
  },
  {
   "cell_type": "markdown",
   "metadata": {},
   "source": [
    "<center><img src=\"data.jpg\" alt=\"Drawing\" style=\"width: 450px;\"/></center>"
   ]
  },
  {
   "cell_type": "markdown",
   "metadata": {},
   "source": [
    "#### Choice of a Metric"
   ]
  },
  {
   "cell_type": "markdown",
   "metadata": {},
   "source": [
    "I have chosen standard metrics used in the assesing the quality of recommendation systems: <br>\n",
    "- **Precision @ K:** how precise is our model at predicting rank at a specific position\n",
    "- **Recall @ K:** how good model at recalling the rank at specific position\n",
    "- **Mean Average Precision @ K (MAP@K):** average of precisions up to K\n",
    "- **Mear Reciprocal Rank (MRR)**: 1 / highest_ranked_answer; higher the value better the model at predicting the first order ranks"
   ]
  },
  {
   "cell_type": "markdown",
   "metadata": {},
   "source": [
    "### Code"
   ]
  },
  {
   "cell_type": "code",
   "execution_count": 1,
   "metadata": {},
   "outputs": [],
   "source": [
    "# Imports\n",
    "import numpy as np\n",
    "import pandas as pd\n",
    "from tqdm.auto import tqdm\n",
    "import matplotlib.pyplot as plt\n",
    "\n",
    "from sklearn.utils import shuffle\n",
    "from sklearn.metrics import roc_auc_score\n",
    "from sklearn.model_selection import train_test_split\n",
    "\n",
    "from lightfm.data import Dataset\n",
    "from lightfm import LightFM\n",
    "\n",
    "from catboost import CatBoostClassifier\n",
    "\n",
    "from tools import (\n",
    "    generate_lightfm_recs_mapper, compute_metrics, \n",
    "    train_test_split_custom, sample_hyperparameters, \n",
    "    random_search\n",
    ")\n",
    "\n",
    "import warnings\n",
    "warnings.simplefilter('ignore')"
   ]
  },
  {
   "cell_type": "markdown",
   "metadata": {},
   "source": [
    "##### Initial Data Preparation"
   ]
  },
  {
   "cell_type": "markdown",
   "metadata": {},
   "source": [
    "First we will prepare data for training"
   ]
  },
  {
   "cell_type": "markdown",
   "metadata": {},
   "source": [
    "Below we will parse the movies dataframe to extract genres as features (each genre will be a column). This will be needed for the second stage of the model."
   ]
  },
  {
   "cell_type": "code",
   "execution_count": 3,
   "metadata": {},
   "outputs": [],
   "source": [
    "df_movies = pd.read_csv('movie.csv')"
   ]
  },
  {
   "cell_type": "code",
   "execution_count": 4,
   "metadata": {},
   "outputs": [
    {
     "data": {
      "text/html": [
       "<div>\n",
       "<style scoped>\n",
       "    .dataframe tbody tr th:only-of-type {\n",
       "        vertical-align: middle;\n",
       "    }\n",
       "\n",
       "    .dataframe tbody tr th {\n",
       "        vertical-align: top;\n",
       "    }\n",
       "\n",
       "    .dataframe thead th {\n",
       "        text-align: right;\n",
       "    }\n",
       "</style>\n",
       "<table border=\"1\" class=\"dataframe\">\n",
       "  <thead>\n",
       "    <tr style=\"text-align: right;\">\n",
       "      <th></th>\n",
       "      <th>movieId</th>\n",
       "      <th>title</th>\n",
       "      <th>genres</th>\n",
       "    </tr>\n",
       "  </thead>\n",
       "  <tbody>\n",
       "    <tr>\n",
       "      <th>0</th>\n",
       "      <td>1</td>\n",
       "      <td>Toy Story (1995)</td>\n",
       "      <td>Adventure|Animation|Children|Comedy|Fantasy</td>\n",
       "    </tr>\n",
       "    <tr>\n",
       "      <th>1</th>\n",
       "      <td>2</td>\n",
       "      <td>Jumanji (1995)</td>\n",
       "      <td>Adventure|Children|Fantasy</td>\n",
       "    </tr>\n",
       "    <tr>\n",
       "      <th>2</th>\n",
       "      <td>3</td>\n",
       "      <td>Grumpier Old Men (1995)</td>\n",
       "      <td>Comedy|Romance</td>\n",
       "    </tr>\n",
       "    <tr>\n",
       "      <th>3</th>\n",
       "      <td>4</td>\n",
       "      <td>Waiting to Exhale (1995)</td>\n",
       "      <td>Comedy|Drama|Romance</td>\n",
       "    </tr>\n",
       "    <tr>\n",
       "      <th>4</th>\n",
       "      <td>5</td>\n",
       "      <td>Father of the Bride Part II (1995)</td>\n",
       "      <td>Comedy</td>\n",
       "    </tr>\n",
       "  </tbody>\n",
       "</table>\n",
       "</div>"
      ],
      "text/plain": [
       "   movieId                               title  \\\n",
       "0        1                    Toy Story (1995)   \n",
       "1        2                      Jumanji (1995)   \n",
       "2        3             Grumpier Old Men (1995)   \n",
       "3        4            Waiting to Exhale (1995)   \n",
       "4        5  Father of the Bride Part II (1995)   \n",
       "\n",
       "                                        genres  \n",
       "0  Adventure|Animation|Children|Comedy|Fantasy  \n",
       "1                   Adventure|Children|Fantasy  \n",
       "2                               Comedy|Romance  \n",
       "3                         Comedy|Drama|Romance  \n",
       "4                                       Comedy  "
      ]
     },
     "execution_count": 4,
     "metadata": {},
     "output_type": "execute_result"
    }
   ],
   "source": [
    "df_movies.head()"
   ]
  },
  {
   "cell_type": "code",
   "execution_count": 5,
   "metadata": {},
   "outputs": [],
   "source": [
    "# Get list of unique genres present in the dataset\n",
    "unique_genres = set()\n",
    "for i in range(df_movies.shape[0]):\n",
    "    genres = df_movies.iloc[i, 2]\n",
    "    for cur_genre in genres.split('|'):\n",
    "        unique_genres.add(cur_genre)\n",
    "\n",
    "genre_columns = list(unique_genres)\n",
    "genre_columns = [str(i) for i in genre_columns]"
   ]
  },
  {
   "cell_type": "code",
   "execution_count": 6,
   "metadata": {},
   "outputs": [],
   "source": [
    "# Create one-hot encoded matrix for movies genres\n",
    "all_rows = []\n",
    "for i in range(df_movies.shape[0]):\n",
    "    cur_row = np.zeros(len(genre_columns))\n",
    "    genres = df_movies.iloc[i, 2]\n",
    "    for cur_genre in genres.split('|'):\n",
    "        cur_row[genre_columns.index(cur_genre)] = 1.0\n",
    "    all_rows.append(cur_row)"
   ]
  },
  {
   "cell_type": "code",
   "execution_count": 7,
   "metadata": {},
   "outputs": [],
   "source": [
    "# Add one hot encoded genres to movies dataframe\n",
    "df_genres = pd.DataFrame(np.array(all_rows), columns=genre_columns)\n",
    "df_movies_with_genres = pd.concat([df_movies, df_genres], axis=1)"
   ]
  },
  {
   "cell_type": "code",
   "execution_count": 8,
   "metadata": {},
   "outputs": [
    {
     "data": {
      "text/plain": [
       "(27278, 23)"
      ]
     },
     "execution_count": 8,
     "metadata": {},
     "output_type": "execute_result"
    }
   ],
   "source": [
    "df_movies_with_genres.shape"
   ]
  },
  {
   "cell_type": "markdown",
   "metadata": {},
   "source": [
    "We also will pivot genomes dataframe to use this info for training second stage of the model."
   ]
  },
  {
   "cell_type": "code",
   "execution_count": 9,
   "metadata": {},
   "outputs": [],
   "source": [
    "df_genomes = pd.read_csv('genome_scores.csv')"
   ]
  },
  {
   "cell_type": "code",
   "execution_count": 10,
   "metadata": {},
   "outputs": [
    {
     "data": {
      "text/html": [
       "<div>\n",
       "<style scoped>\n",
       "    .dataframe tbody tr th:only-of-type {\n",
       "        vertical-align: middle;\n",
       "    }\n",
       "\n",
       "    .dataframe tbody tr th {\n",
       "        vertical-align: top;\n",
       "    }\n",
       "\n",
       "    .dataframe thead th {\n",
       "        text-align: right;\n",
       "    }\n",
       "</style>\n",
       "<table border=\"1\" class=\"dataframe\">\n",
       "  <thead>\n",
       "    <tr style=\"text-align: right;\">\n",
       "      <th></th>\n",
       "      <th>movieId</th>\n",
       "      <th>tagId</th>\n",
       "      <th>relevance</th>\n",
       "    </tr>\n",
       "  </thead>\n",
       "  <tbody>\n",
       "    <tr>\n",
       "      <th>0</th>\n",
       "      <td>1</td>\n",
       "      <td>1</td>\n",
       "      <td>0.02500</td>\n",
       "    </tr>\n",
       "    <tr>\n",
       "      <th>1</th>\n",
       "      <td>1</td>\n",
       "      <td>2</td>\n",
       "      <td>0.02500</td>\n",
       "    </tr>\n",
       "    <tr>\n",
       "      <th>2</th>\n",
       "      <td>1</td>\n",
       "      <td>3</td>\n",
       "      <td>0.05775</td>\n",
       "    </tr>\n",
       "    <tr>\n",
       "      <th>3</th>\n",
       "      <td>1</td>\n",
       "      <td>4</td>\n",
       "      <td>0.09675</td>\n",
       "    </tr>\n",
       "    <tr>\n",
       "      <th>4</th>\n",
       "      <td>1</td>\n",
       "      <td>5</td>\n",
       "      <td>0.14675</td>\n",
       "    </tr>\n",
       "  </tbody>\n",
       "</table>\n",
       "</div>"
      ],
      "text/plain": [
       "   movieId  tagId  relevance\n",
       "0        1      1    0.02500\n",
       "1        1      2    0.02500\n",
       "2        1      3    0.05775\n",
       "3        1      4    0.09675\n",
       "4        1      5    0.14675"
      ]
     },
     "execution_count": 10,
     "metadata": {},
     "output_type": "execute_result"
    }
   ],
   "source": [
    "df_genomes.head()"
   ]
  },
  {
   "cell_type": "code",
   "execution_count": 11,
   "metadata": {},
   "outputs": [],
   "source": [
    "# Get the tag names for meaningful representation of columns\n",
    "df_tags = pd.read_csv('genome_tags.csv')\n",
    "\n",
    "id_to_tag_dict = {}\n",
    "for i in range(df_tags.shape[0]):\n",
    "    id = df_tags.iloc[i, 0]\n",
    "    tag = df_tags.iloc[i, 1]\n",
    "    id_to_tag_dict[id] = tag"
   ]
  },
  {
   "cell_type": "code",
   "execution_count": 12,
   "metadata": {},
   "outputs": [],
   "source": [
    "# Pivot genomes table\n",
    "df_genomes_pivoted = df_genomes.pivot_table(columns='tagId', index='movieId', values='relevance')\n",
    "df_genomes_pivoted.rename(columns=id_to_tag_dict, inplace=True)\n",
    "df_genomes_pivoted = df_genomes_pivoted.astype(int)\n"
   ]
  },
  {
   "cell_type": "code",
   "execution_count": 13,
   "metadata": {},
   "outputs": [
    {
     "data": {
      "text/plain": [
       "(10381, 1128)"
      ]
     },
     "execution_count": 13,
     "metadata": {},
     "output_type": "execute_result"
    }
   ],
   "source": [
    "df_genomes_pivoted.shape"
   ]
  },
  {
   "cell_type": "markdown",
   "metadata": {},
   "source": [
    "Due to memory limitation we will randomly select columns for training. Ideally we would pick features that are not already present in the genres set of features or we would pick them based on the performance on the testing set."
   ]
  },
  {
   "cell_type": "code",
   "execution_count": 14,
   "metadata": {},
   "outputs": [],
   "source": [
    "df_genomes_pivoted = df_genomes_pivoted.sample(n=40, axis='columns')"
   ]
  },
  {
   "cell_type": "code",
   "execution_count": 15,
   "metadata": {},
   "outputs": [
    {
     "data": {
      "text/plain": [
       "(10381, 40)"
      ]
     },
     "execution_count": 15,
     "metadata": {},
     "output_type": "execute_result"
    }
   ],
   "source": [
    "df_genomes_pivoted.shape"
   ]
  },
  {
   "cell_type": "code",
   "execution_count": 16,
   "metadata": {},
   "outputs": [],
   "source": [
    "# Merge genres and genomes data into one dataframe\n",
    "df_movies_final = df_movies_with_genres.merge(df_genomes_pivoted, on='movieId', how='left')"
   ]
  },
  {
   "cell_type": "code",
   "execution_count": 17,
   "metadata": {},
   "outputs": [
    {
     "data": {
      "text/plain": [
       "(27278, 63)"
      ]
     },
     "execution_count": 17,
     "metadata": {},
     "output_type": "execute_result"
    }
   ],
   "source": [
    "df_movies_final.shape"
   ]
  },
  {
   "cell_type": "code",
   "execution_count": 19,
   "metadata": {},
   "outputs": [],
   "source": [
    "# Get column names for later training use and remove redundant ones\n",
    "movie_columns = list(df_movies_final.columns)\n",
    "movie_columns.remove('title')\n",
    "movie_columns.remove('genres')"
   ]
  },
  {
   "cell_type": "markdown",
   "metadata": {},
   "source": [
    "We got the movie related data together into one dataframe and now we can look at users' ratings data and merge everything together"
   ]
  },
  {
   "cell_type": "code",
   "execution_count": 20,
   "metadata": {},
   "outputs": [],
   "source": [
    "# Read ratings data\n",
    "df_rating = pd.read_csv('rating.csv')"
   ]
  },
  {
   "cell_type": "code",
   "execution_count": 22,
   "metadata": {},
   "outputs": [],
   "source": [
    "# Pick the users above the threshold number of ratings they put.\n",
    "# This is needed for faster training due to limited time and to reduce\n",
    "# noise in the training data. \n",
    "ratings_threshold = 200\n",
    "filtered_ratings = df_rating['userId'].value_counts() > ratings_threshold\n",
    "selected_users = filtered_ratings[filtered_ratings].index\n",
    "df_rating=df_rating[df_rating['userId'].isin(selected_users)]"
   ]
  },
  {
   "cell_type": "code",
   "execution_count": 23,
   "metadata": {},
   "outputs": [],
   "source": [
    "# Merge movies and ratings they have received\n",
    "df_ratings_movies = df_movies_final.merge(df_rating, on='movieId')"
   ]
  },
  {
   "cell_type": "code",
   "execution_count": 24,
   "metadata": {},
   "outputs": [],
   "source": [
    "# Get the number of times movies were rated for further data reduction\n",
    "number_of_ratings = df_ratings_movies.groupby('title')['rating'].count().reset_index()\n",
    "number_of_ratings.rename(columns={'rating':'number of ratings'}, inplace=True)"
   ]
  },
  {
   "cell_type": "code",
   "execution_count": 25,
   "metadata": {},
   "outputs": [],
   "source": [
    "# Add ratings count to the main dataframe\n",
    "df_main = df_ratings_movies.merge(number_of_ratings, on='title')"
   ]
  },
  {
   "cell_type": "code",
   "execution_count": 26,
   "metadata": {},
   "outputs": [],
   "source": [
    "# Further filtering of data based on number of ratings movie received\n",
    "df_main = df_main[df_main['number of ratings'] >= 100]"
   ]
  },
  {
   "cell_type": "code",
   "execution_count": 27,
   "metadata": {},
   "outputs": [],
   "source": [
    "# Casting ratings to int\n",
    "df_main['rating'] = df_main['rating'].astype(int)"
   ]
  },
  {
   "cell_type": "code",
   "execution_count": 28,
   "metadata": {},
   "outputs": [],
   "source": [
    "# Split the data into train and test based on year\n",
    "split_year = 2011\n",
    "df_main['timestamp'] = pd.DatetimeIndex(df_main['timestamp']).year\n",
    "df_train = df_main[df_main['timestamp'] < split_year]\n",
    "df_test = df_main[df_main['timestamp'] > split_year]"
   ]
  },
  {
   "cell_type": "code",
   "execution_count": 29,
   "metadata": {},
   "outputs": [
    {
     "data": {
      "text/plain": [
       "Index(['movieId', 'title', 'genres', 'Children', 'Thriller', 'Crime',\n",
       "       'Documentary', 'Film-Noir', 'Horror', 'Mystery', 'Musical', 'Adventure',\n",
       "       'Comedy', 'War', 'Romance', 'Fantasy', 'Drama', 'Western', 'Action',\n",
       "       'IMAX', 'Sci-Fi', 'Animation', '(no genres listed)', 'magic',\n",
       "       'author:neil gaiman', 'stoner movie', 'spielberg', 'desert',\n",
       "       'imaginary friend', 'satire', 'catholicism', 'president', 'unique',\n",
       "       'psychiatrist', 'better than the american version', 'italy', 'bizarre',\n",
       "       'unusual plot structure', 'fun', 'dragon', 'not funny', 'cool',\n",
       "       '19th century', 'affectionate', 'kidnapping', 'idealism', 'jewish',\n",
       "       'dolphins', 'justice', 'brutality', 'dialogue', 'good', 'ominous',\n",
       "       'teenagers', 'philosophy', 'biting', 'so bad it's funny', 'weed',\n",
       "       'chicago', 'drug addiction', 'good versus evil', 'mad scientist',\n",
       "       'suicide', 'userId', 'rating', 'timestamp', 'number of ratings'],\n",
       "      dtype='object')"
      ]
     },
     "execution_count": 29,
     "metadata": {},
     "output_type": "execute_result"
    }
   ],
   "source": [
    "df_main.columns"
   ]
  },
  {
   "cell_type": "code",
   "execution_count": 30,
   "metadata": {},
   "outputs": [
    {
     "data": {
      "text/plain": [
       "(10418861, 67)"
      ]
     },
     "execution_count": 30,
     "metadata": {},
     "output_type": "execute_result"
    }
   ],
   "source": [
    "df_train.shape"
   ]
  },
  {
   "cell_type": "code",
   "execution_count": 31,
   "metadata": {},
   "outputs": [
    {
     "data": {
      "text/plain": [
       "(1251724, 67)"
      ]
     },
     "execution_count": 31,
     "metadata": {},
     "output_type": "execute_result"
    }
   ],
   "source": [
    "df_test.shape"
   ]
  },
  {
   "cell_type": "markdown",
   "metadata": {},
   "source": [
    "#### Two-stage Model."
   ]
  },
  {
   "cell_type": "markdown",
   "metadata": {},
   "source": [
    "##### Stage 1. Collaborative Filtering. Matrix Factorization."
   ]
  },
  {
   "cell_type": "markdown",
   "metadata": {},
   "source": [
    "For creating a collaborative filtering model I will use matrix factorization method. I will use LightFM recommendation system library that has matrix factorization-based model. But initially, I need to further process the dataset for training and validating."
   ]
  },
  {
   "cell_type": "code",
   "execution_count": 32,
   "metadata": {},
   "outputs": [
    {
     "data": {
      "text/plain": [
       "2006"
      ]
     },
     "execution_count": 32,
     "metadata": {},
     "output_type": "execute_result"
    }
   ],
   "source": [
    "# Get the date at which data will be further split for LightFM and boosting\n",
    "lfm_date_threshold = df_train['timestamp'].quantile(q=0.7, interpolation='nearest')\n",
    "lfm_date_threshold"
   ]
  },
  {
   "cell_type": "code",
   "execution_count": 33,
   "metadata": {},
   "outputs": [
    {
     "name": "stdout",
     "output_type": "stream",
     "text": [
      "lfm_train: (6879359, 67)\n",
      "lfm_pred: (3539502, 67)\n"
     ]
    }
   ],
   "source": [
    "# lfm_pred will be used for boosting\n",
    "lfm_train = df_train[(df_train['timestamp'] < lfm_date_threshold)]\n",
    "lfm_pred = df_train[(df_train['timestamp'] >= lfm_date_threshold)]\n",
    "\n",
    "print(f\"lfm_train: {lfm_train.shape}\")\n",
    "print(f\"lfm_pred: {lfm_pred.shape}\")"
   ]
  },
  {
   "cell_type": "code",
   "execution_count": 34,
   "metadata": {},
   "outputs": [],
   "source": [
    "# Keep the data that's present in train\n",
    "lfm_pred = lfm_pred[lfm_pred['userId'].isin(lfm_train['userId'].unique())]"
   ]
  },
  {
   "cell_type": "code",
   "execution_count": 35,
   "metadata": {},
   "outputs": [],
   "source": [
    "# Dataset class for LightFM\n",
    "dataset = Dataset()\n",
    "dataset.fit(lfm_train['userId'].unique(), lfm_train['movieId'].unique())"
   ]
  },
  {
   "cell_type": "code",
   "execution_count": 36,
   "metadata": {},
   "outputs": [],
   "source": [
    "# Matrix for training LightFM\n",
    "interactions_matrix, weights_matrix = dataset.build_interactions(\n",
    "    zip(*lfm_train[['userId', 'movieId', 'rating']].values.T)\n",
    ")\n",
    "\n",
    "weights_matrix_csr = weights_matrix.tocsr()"
   ]
  },
  {
   "cell_type": "code",
   "execution_count": 37,
   "metadata": {},
   "outputs": [
    {
     "name": "stdout",
     "output_type": "stream",
     "text": [
      "users_mapping amount: 16361\n",
      "items_mapping amount: 6108\n"
     ]
    }
   ],
   "source": [
    "# Unique user and movie mappings\n",
    "lightfm_mapping = dataset.mapping()\n",
    "lightfm_mapping = {\n",
    "    'users_mapping': lightfm_mapping[0],\n",
    "    'items_mapping': lightfm_mapping[2],\n",
    "}\n",
    "\n",
    "lightfm_mapping['users_inv_mapping'] = {v: k for k, v in lightfm_mapping['users_mapping'].items()}\n",
    "lightfm_mapping['items_inv_mapping'] = {v: k for k, v in lightfm_mapping['items_mapping'].items()}\n",
    "\n",
    "print(f\"users_mapping amount: {len(lightfm_mapping['users_mapping'])}\")\n",
    "print(f\"items_mapping amount: {len(lightfm_mapping['items_mapping'])}\")"
   ]
  },
  {
   "cell_type": "markdown",
   "metadata": {},
   "source": [
    "Prior to training the final LightFM matrix factorization model we will run hyperparameter search. We will use random search approach by randomly selecting hyperparameters. We will run the hyperparameter search on the validation set that we take from the LightFM's training set. To ensure that we don't have cold users (not present in training set) in the validation set, we will only take movies that have ratings for at least 10 movies in the training set. As a metric for picking the model we will use LightFM's AUC score."
   ]
  },
  {
   "cell_type": "code",
   "execution_count": 90,
   "metadata": {},
   "outputs": [
    {
     "name": "stdout",
     "output_type": "stream",
     "text": [
      "Best score 0.9496344923973083 at {'no_components': 51, 'learning_schedule': 'adagrad', 'loss': 'warp', 'learning_rate': 0.11138188021626874, 'item_alpha': 3.098252502431011e-08, 'user_alpha': 6.794355467420496e-12, 'max_sampled': 14, 'num_epochs': 19}\n"
     ]
    }
   ],
   "source": [
    "# Run hyperparameter search for LightFM model\n",
    "train, test = train_test_split_custom(weights_matrix_csr, 5, fraction=0.2)\n",
    "\n",
    "(score, hyperparams, model) = max(random_search(train, test, num_threads=2), key=lambda x: x[0])\n",
    "\n",
    "print(\"Best score {} at {}\".format(score, hyperparams))"
   ]
  },
  {
   "cell_type": "code",
   "execution_count": 92,
   "metadata": {},
   "outputs": [],
   "source": [
    "# Define LightFM model with optimal hyperparameters\n",
    "lfm_model = LightFM(\n",
    "    no_components=51, \n",
    "    learning_schedule='adagrad',\n",
    "    learning_rate=0.111,\n",
    "    item_alpha=3.098252502431011e-08,\n",
    "    user_alpha=6.794355467420496e-12, \n",
    "    loss='warp', \n",
    "    max_sampled=14, \n",
    "    random_state=7575,\n",
    ")"
   ]
  },
  {
   "cell_type": "code",
   "execution_count": 93,
   "metadata": {},
   "outputs": [
    {
     "data": {
      "application/vnd.jupyter.widget-view+json": {
       "model_id": "db60d275593542e0acba8f9f1b3c3f89",
       "version_major": 2,
       "version_minor": 0
      },
      "text/plain": [
       "  0%|          | 0/19 [00:00<?, ?it/s]"
      ]
     },
     "metadata": {},
     "output_type": "display_data"
    }
   ],
   "source": [
    "# Train LightFM model\n",
    "num_epochs = 19\n",
    "\n",
    "for _ in tqdm(range(num_epochs)):\n",
    "    lfm_model.fit_partial(\n",
    "        weights_matrix_csr\n",
    "    )"
   ]
  },
  {
   "cell_type": "code",
   "execution_count": 94,
   "metadata": {},
   "outputs": [
    {
     "data": {
      "text/html": [
       "<div>\n",
       "<style scoped>\n",
       "    .dataframe tbody tr th:only-of-type {\n",
       "        vertical-align: middle;\n",
       "    }\n",
       "\n",
       "    .dataframe tbody tr th {\n",
       "        vertical-align: top;\n",
       "    }\n",
       "\n",
       "    .dataframe thead th {\n",
       "        text-align: right;\n",
       "    }\n",
       "</style>\n",
       "<table border=\"1\" class=\"dataframe\">\n",
       "  <thead>\n",
       "    <tr style=\"text-align: right;\">\n",
       "      <th></th>\n",
       "      <th>userId</th>\n",
       "    </tr>\n",
       "  </thead>\n",
       "  <tbody>\n",
       "    <tr>\n",
       "      <th>0</th>\n",
       "      <td>58</td>\n",
       "    </tr>\n",
       "    <tr>\n",
       "      <th>1</th>\n",
       "      <td>1165</td>\n",
       "    </tr>\n",
       "    <tr>\n",
       "      <th>2</th>\n",
       "      <td>2051</td>\n",
       "    </tr>\n",
       "  </tbody>\n",
       "</table>\n",
       "</div>"
      ],
      "text/plain": [
       "   userId\n",
       "0      58\n",
       "1    1165\n",
       "2    2051"
      ]
     },
     "execution_count": 94,
     "metadata": {},
     "output_type": "execute_result"
    }
   ],
   "source": [
    "# Create dataframe to fill out predictions from LightFM model\n",
    "candidates = pd.DataFrame({\n",
    "    'userId': lfm_pred['userId'].unique()\n",
    "})\n",
    "\n",
    "candidates.head(3)"
   ]
  },
  {
   "cell_type": "code",
   "execution_count": 95,
   "metadata": {},
   "outputs": [],
   "source": [
    "# Number of candidates for boosting training \n",
    "top_N = 30\n",
    "\n",
    "# Predict top_N candidates using helper function from tools.py\n",
    "all_cols = list(lightfm_mapping['items_mapping'].values())\n",
    "\n",
    "mapper = generate_lightfm_recs_mapper(\n",
    "    lfm_model, \n",
    "    item_ids=all_cols, \n",
    "    known_items=dict(),\n",
    "    N=top_N,\n",
    "    user_features=None, \n",
    "    item_features=None, \n",
    "    user_mapping=lightfm_mapping['users_mapping'],\n",
    "    item_inv_mapping=lightfm_mapping['items_inv_mapping'],\n",
    "    num_threads=20\n",
    ")"
   ]
  },
  {
   "cell_type": "code",
   "execution_count": 96,
   "metadata": {},
   "outputs": [
    {
     "data": {
      "text/html": [
       "<div>\n",
       "<style scoped>\n",
       "    .dataframe tbody tr th:only-of-type {\n",
       "        vertical-align: middle;\n",
       "    }\n",
       "\n",
       "    .dataframe tbody tr th {\n",
       "        vertical-align: top;\n",
       "    }\n",
       "\n",
       "    .dataframe thead th {\n",
       "        text-align: right;\n",
       "    }\n",
       "</style>\n",
       "<table border=\"1\" class=\"dataframe\">\n",
       "  <thead>\n",
       "    <tr style=\"text-align: right;\">\n",
       "      <th></th>\n",
       "      <th>userId</th>\n",
       "      <th>movieId</th>\n",
       "      <th>rank</th>\n",
       "    </tr>\n",
       "  </thead>\n",
       "  <tbody>\n",
       "    <tr>\n",
       "      <th>0</th>\n",
       "      <td>58</td>\n",
       "      <td>1219</td>\n",
       "      <td>1</td>\n",
       "    </tr>\n",
       "    <tr>\n",
       "      <th>0</th>\n",
       "      <td>58</td>\n",
       "      <td>1214</td>\n",
       "      <td>2</td>\n",
       "    </tr>\n",
       "    <tr>\n",
       "      <th>0</th>\n",
       "      <td>58</td>\n",
       "      <td>1994</td>\n",
       "      <td>3</td>\n",
       "    </tr>\n",
       "    <tr>\n",
       "      <th>0</th>\n",
       "      <td>58</td>\n",
       "      <td>593</td>\n",
       "      <td>4</td>\n",
       "    </tr>\n",
       "    <tr>\n",
       "      <th>0</th>\n",
       "      <td>58</td>\n",
       "      <td>2160</td>\n",
       "      <td>5</td>\n",
       "    </tr>\n",
       "  </tbody>\n",
       "</table>\n",
       "</div>"
      ],
      "text/plain": [
       "   userId movieId  rank\n",
       "0      58    1219     1\n",
       "0      58    1214     2\n",
       "0      58    1994     3\n",
       "0      58     593     4\n",
       "0      58    2160     5"
      ]
     },
     "execution_count": 96,
     "metadata": {},
     "output_type": "execute_result"
    }
   ],
   "source": [
    "# Generate predictions for boosting model\n",
    "candidates['movieId'] = candidates['userId'].map(mapper)\n",
    "candidates = candidates.explode('movieId')\n",
    "candidates['rank'] = candidates.groupby('userId').cumcount() + 1 \n",
    "\n",
    "candidates.head()"
   ]
  },
  {
   "cell_type": "code",
   "execution_count": 97,
   "metadata": {},
   "outputs": [
    {
     "data": {
      "text/plain": [
       "(120390, 3)"
      ]
     },
     "execution_count": 97,
     "metadata": {},
     "output_type": "execute_result"
    }
   ],
   "source": [
    "candidates.shape"
   ]
  },
  {
   "cell_type": "markdown",
   "metadata": {},
   "source": [
    "#### Stage 2. Boosting. CatBoost."
   ]
  },
  {
   "cell_type": "markdown",
   "metadata": {},
   "source": [
    "We setting the task as binary classification. In the end it will produce logits and we can arrange recommendations based on logit values. As positive target we setting values that have received rating of at least 2, and as negative target we are setting values that haven't been viewed at all."
   ]
  },
  {
   "cell_type": "code",
   "execution_count": 98,
   "metadata": {},
   "outputs": [
    {
     "name": "stdout",
     "output_type": "stream",
     "text": [
      "(7361, 70)\n"
     ]
    }
   ],
   "source": [
    "pos = candidates.merge(lfm_pred,\n",
    "                        on=['userId', 'movieId'],\n",
    "                        how='inner')\n",
    "\n",
    "pos = pos[pos['rating'] > 1].reset_index()\n",
    "\n",
    "pos['target'] = 1\n",
    "print(pos.shape)"
   ]
  },
  {
   "cell_type": "code",
   "execution_count": 105,
   "metadata": {},
   "outputs": [
    {
     "name": "stdout",
     "output_type": "stream",
     "text": [
      "(15803, 69)\n"
     ]
    }
   ],
   "source": [
    "neg = candidates.set_index(['userId', 'movieId'])\\\n",
    "        .join(lfm_pred.set_index(['userId', 'movieId']))\n",
    "\n",
    "neg = neg[neg['rating'].isnull()].reset_index()\n",
    "\n",
    "neg = neg.sample(frac=0.14)\n",
    "neg['target'] = 0\n",
    "\n",
    "print(neg.shape)"
   ]
  },
  {
   "cell_type": "code",
   "execution_count": 106,
   "metadata": {},
   "outputs": [],
   "source": [
    "# Split the data for checking catboost performance\n",
    "ctb_train_users, ctb_test_users = train_test_split(lfm_pred['userId'].unique(),\n",
    "                                                  random_state=1,\n",
    "                                                  test_size=0.2)"
   ]
  },
  {
   "cell_type": "code",
   "execution_count": 107,
   "metadata": {},
   "outputs": [],
   "source": [
    "# Use 10% for the early stopping during training\n",
    "ctb_train_users, ctb_eval_users = train_test_split(ctb_train_users,\n",
    "                                                  random_state=1,\n",
    "                                                  test_size=0.1)"
   ]
  },
  {
   "cell_type": "code",
   "execution_count": 108,
   "metadata": {},
   "outputs": [],
   "source": [
    "select_col = ['userId', 'movieId', 'rank', 'target']\n",
    "\n",
    "# Catboost train\n",
    "ctb_train = shuffle(\n",
    "    pd.concat([\n",
    "        pos[pos['userId'].isin(ctb_train_users)],\n",
    "        neg[neg['userId'].isin(ctb_train_users)]\n",
    "])[select_col]\n",
    ")\n",
    "\n",
    "# Catboost test\n",
    "ctb_test = shuffle(\n",
    "    pd.concat([\n",
    "        pos[pos['userId'].isin(ctb_test_users)],\n",
    "        neg[neg['userId'].isin(ctb_test_users)]\n",
    "])[select_col]\n",
    ")\n",
    "\n",
    "# For early stopping\n",
    "ctb_eval = shuffle(\n",
    "    pd.concat([\n",
    "        pos[pos['userId'].isin(ctb_eval_users)],\n",
    "        neg[neg['userId'].isin(ctb_eval_users)]\n",
    "])[select_col]\n",
    ")"
   ]
  },
  {
   "cell_type": "markdown",
   "metadata": {},
   "source": [
    "Checking the class balance for training"
   ]
  },
  {
   "cell_type": "code",
   "execution_count": 109,
   "metadata": {},
   "outputs": [
    {
     "data": {
      "text/plain": [
       "0    0.68309\n",
       "1    0.31691\n",
       "Name: target, dtype: float64"
      ]
     },
     "execution_count": 109,
     "metadata": {},
     "output_type": "execute_result"
    }
   ],
   "source": [
    "ctb_train['target'].value_counts(normalize=True)"
   ]
  },
  {
   "cell_type": "code",
   "execution_count": 110,
   "metadata": {},
   "outputs": [
    {
     "data": {
      "text/plain": [
       "0    0.680171\n",
       "1    0.319829\n",
       "Name: target, dtype: float64"
      ]
     },
     "execution_count": 110,
     "metadata": {},
     "output_type": "execute_result"
    }
   ],
   "source": [
    "ctb_test['target'].value_counts(normalize=True)"
   ]
  },
  {
   "cell_type": "markdown",
   "metadata": {},
   "source": [
    "Now we selecting classes for training. We will use features that we have formed from genres and genomes in the data processing step before."
   ]
  },
  {
   "cell_type": "code",
   "execution_count": 111,
   "metadata": {},
   "outputs": [],
   "source": [
    "user_col = ['userId']\n",
    "item_col = movie_columns "
   ]
  },
  {
   "cell_type": "code",
   "execution_count": 112,
   "metadata": {},
   "outputs": [],
   "source": [
    "# We will use LightFM ranks as feature as well\n",
    "train_feat = ctb_train.merge(df_movies_final[item_col],\n",
    "                           on=['movieId'],\n",
    "                           how='left')\n",
    "\n",
    "eval_feat = ctb_eval.merge(df_movies_final[item_col],\n",
    "                           on=['movieId'],\n",
    "                           how='left')"
   ]
  },
  {
   "cell_type": "code",
   "execution_count": 113,
   "metadata": {},
   "outputs": [],
   "source": [
    "# Select features for training catboost\n",
    "drop_col = ['userId', 'movieId']\n",
    "target_col = ['target']\n",
    "cat_col = movie_columns.copy()\n",
    "cat_col.remove('movieId')"
   ]
  },
  {
   "cell_type": "code",
   "execution_count": 114,
   "metadata": {},
   "outputs": [],
   "source": [
    "# Remove non-feature columns for input and keep targets for output\n",
    "X_train, y_train = train_feat.drop(drop_col + target_col, axis=1), train_feat[target_col]\n",
    "X_val, y_val = eval_feat.drop(drop_col + target_col, axis=1), eval_feat[target_col]"
   ]
  },
  {
   "cell_type": "code",
   "execution_count": 115,
   "metadata": {},
   "outputs": [
    {
     "data": {
      "text/plain": [
       "((16623, 61), (16623, 1), (1851, 61), (1851, 1))"
      ]
     },
     "execution_count": 115,
     "metadata": {},
     "output_type": "execute_result"
    }
   ],
   "source": [
    "X_train.shape, y_train.shape, X_val.shape, y_val.shape"
   ]
  },
  {
   "cell_type": "code",
   "execution_count": 116,
   "metadata": {},
   "outputs": [],
   "source": [
    "# Cast to int for catboost training\n",
    "X_train = X_train.astype(int) \n",
    "y_train = y_train.astype(int)\n",
    "X_val = X_val.astype(int) \n",
    "y_val = y_val.astype(int)"
   ]
  },
  {
   "cell_type": "code",
   "execution_count": 117,
   "metadata": {},
   "outputs": [],
   "source": [
    "# fillna for catboost with the most frequent value \n",
    "X_train = X_train.fillna(X_train.mode().iloc[0])"
   ]
  },
  {
   "cell_type": "code",
   "execution_count": 118,
   "metadata": {},
   "outputs": [],
   "source": [
    "# fillna for catboost with the most frequent value \n",
    "X_val = X_val.fillna(X_train.mode().iloc[0])"
   ]
  },
  {
   "cell_type": "code",
   "execution_count": 123,
   "metadata": {},
   "outputs": [
    {
     "name": "stderr",
     "output_type": "stream",
     "text": [
      "Custom logger is already specified. Specify more than one logger at same time is not thread safe."
     ]
    },
    {
     "data": {
      "application/vnd.jupyter.widget-view+json": {
       "model_id": "5d9082f1a6174ce8bffa6057fda36528",
       "version_major": 2,
       "version_minor": 0
      },
      "text/plain": [
       "MetricVisualizer(layout=Layout(align_self='stretch', height='500px'))"
      ]
     },
     "metadata": {},
     "output_type": "display_data"
    },
    {
     "name": "stdout",
     "output_type": "stream",
     "text": [
      "\n",
      "bestTest = 0.6250214316\n",
      "bestIteration = 99\n",
      "\n",
      "0:\tloss: 0.6250214\tbest: 0.6250214 (0)\ttotal: 694ms\tremaining: 6.24s\n",
      "\n",
      "bestTest = 0.6095848488\n",
      "bestIteration = 329\n",
      "\n",
      "1:\tloss: 0.6095848\tbest: 0.6095848 (1)\ttotal: 27.3s\tremaining: 1m 49s\n",
      "\n",
      "bestTest = 0.6103769571\n",
      "bestIteration = 40\n",
      "\n",
      "2:\tloss: 0.6103770\tbest: 0.6095848 (1)\ttotal: 31.8s\tremaining: 1m 14s\n",
      "\n",
      "bestTest = 0.6098735112\n",
      "bestIteration = 52\n",
      "\n",
      "3:\tloss: 0.6098735\tbest: 0.6095848 (1)\ttotal: 1m 10s\tremaining: 1m 45s\n",
      "\n",
      "bestTest = 0.611745058\n",
      "bestIteration = 324\n",
      "\n",
      "4:\tloss: 0.6117451\tbest: 0.6095848 (1)\ttotal: 1m 20s\tremaining: 1m 20s\n",
      "\n",
      "bestTest = 0.6111545398\n",
      "bestIteration = 31\n",
      "\n",
      "5:\tloss: 0.6111545\tbest: 0.6095848 (1)\ttotal: 1m 33s\tremaining: 1m 2s\n",
      "\n",
      "bestTest = 0.6116361176\n",
      "bestIteration = 110\n",
      "\n",
      "6:\tloss: 0.6116361\tbest: 0.6095848 (1)\ttotal: 2m 26s\tremaining: 1m 2s\n",
      "\n",
      "bestTest = 0.611122856\n",
      "bestIteration = 336\n",
      "\n",
      "7:\tloss: 0.6111229\tbest: 0.6095848 (1)\ttotal: 3m 15s\tremaining: 48.9s\n",
      "\n",
      "bestTest = 0.6123454788\n",
      "bestIteration = 86\n",
      "\n",
      "8:\tloss: 0.6123455\tbest: 0.6095848 (1)\ttotal: 5m\tremaining: 33.3s\n",
      "\n",
      "bestTest = 0.6116361176\n",
      "bestIteration = 110\n",
      "\n",
      "9:\tloss: 0.6116361\tbest: 0.6095848 (1)\ttotal: 6m 43s\tremaining: 0us\n",
      "Estimating final quality...\n",
      "Training on fold [0/3]\n",
      "\n",
      "bestTest = 0.6239585936\n",
      "bestIteration = 135\n",
      "\n",
      "Training on fold [1/3]\n",
      "\n",
      "bestTest = 0.6225480888\n",
      "bestIteration = 184\n",
      "\n",
      "Training on fold [2/3]\n",
      "\n",
      "bestTest = 0.6223068685\n",
      "bestIteration = 281\n",
      "\n"
     ]
    }
   ],
   "source": [
    "# Run hyperparameter seach for catboost\n",
    "ctb_search_model = CatBoostClassifier(loss_function='Logloss', silent=True)\n",
    "\n",
    "grid = {\n",
    "    'learning_rate': [0.01, 0.03, 0.1],\n",
    "    'max_depth': [4, 6, 10],\n",
    "    'l2_leaf_reg': [1, 3, 5, 7, 9],\n",
    "    'n_estimators': [100, 500, 2000, 4000],\n",
    "}\n",
    "\n",
    "randomized_search_result = ctb_search_model.randomized_search(grid,\n",
    "                                                              X=X_train,\n",
    "                                                              y=y_train,\n",
    "                                                              plot=True)"
   ]
  },
  {
   "cell_type": "code",
   "execution_count": 125,
   "metadata": {},
   "outputs": [
    {
     "data": {
      "text/plain": [
       "{'depth': 4, 'l2_leaf_reg': 1, 'iterations': 4000, 'learning_rate': 0.03}"
      ]
     },
     "execution_count": 125,
     "metadata": {},
     "output_type": "execute_result"
    }
   ],
   "source": [
    "# Best hyperparameters for model training\n",
    "randomized_search_result['params']"
   ]
  },
  {
   "cell_type": "code",
   "execution_count": 126,
   "metadata": {},
   "outputs": [],
   "source": [
    "# Train params for catboost\n",
    "est_params = {\n",
    "  'subsample': 0.9,\n",
    "  'max_depth': 4,\n",
    "  'l2_leaf_reg': 1,\n",
    "  'n_estimators': 4000,\n",
    "  'learning_rate': 0.01,\n",
    "  'thread_count': 20,\n",
    "  'random_state': 7575,\n",
    "  'verbose': 200,\n",
    "}\n",
    "\n",
    "ctb_model = CatBoostClassifier(**est_params)"
   ]
  },
  {
   "cell_type": "code",
   "execution_count": 127,
   "metadata": {},
   "outputs": [
    {
     "data": {
      "application/vnd.jupyter.widget-view+json": {
       "model_id": "e7a77e06cb8b43a59d5f4e66ec02e6d8",
       "version_major": 2,
       "version_minor": 0
      },
      "text/plain": [
       "MetricVisualizer(layout=Layout(align_self='stretch', height='500px'))"
      ]
     },
     "metadata": {},
     "output_type": "display_data"
    },
    {
     "name": "stdout",
     "output_type": "stream",
     "text": [
      "0:\tlearn: 0.6917380\ttest: 0.6917764\tbest: 0.6917764 (0)\ttotal: 4.25ms\tremaining: 17s\n",
      "200:\tlearn: 0.6232419\ttest: 0.6265922\tbest: 0.6265922 (200)\ttotal: 616ms\tremaining: 11.6s\n",
      "400:\tlearn: 0.6204158\ttest: 0.6250532\tbest: 0.6250532 (400)\ttotal: 1.2s\tremaining: 10.8s\n",
      "600:\tlearn: 0.6189846\ttest: 0.6246381\tbest: 0.6245925 (588)\ttotal: 1.81s\tremaining: 10.3s\n",
      "800:\tlearn: 0.6177857\ttest: 0.6243709\tbest: 0.6243709 (800)\ttotal: 2.45s\tremaining: 9.78s\n",
      "1000:\tlearn: 0.6165397\ttest: 0.6243392\tbest: 0.6242933 (928)\ttotal: 3.09s\tremaining: 9.27s\n",
      "Stopped by overfitting detector  (100 iterations wait)\n",
      "\n",
      "bestTest = 0.6242932815\n",
      "bestIteration = 928\n",
      "\n",
      "Shrink model to first 929 iterations.\n"
     ]
    },
    {
     "data": {
      "text/plain": [
       "<catboost.core.CatBoostClassifier at 0x7fe808182400>"
      ]
     },
     "execution_count": 127,
     "metadata": {},
     "output_type": "execute_result"
    }
   ],
   "source": [
    "# Train catboost\n",
    "ctb_model.fit(X_train,\n",
    "              y_train,\n",
    "              eval_set=(X_val, y_val),\n",
    "              early_stopping_rounds=100,\n",
    "              cat_features=cat_col,\n",
    "              plot=True)"
   ]
  },
  {
   "cell_type": "markdown",
   "metadata": {},
   "source": [
    "#### Metrics"
   ]
  },
  {
   "cell_type": "markdown",
   "metadata": {},
   "source": [
    "Now we will check the metrics of our models."
   ]
  },
  {
   "cell_type": "code",
   "execution_count": 128,
   "metadata": {},
   "outputs": [],
   "source": [
    "test_feat = ctb_test.merge(df_movies_final[item_col],\n",
    "                           on=['movieId'],\n",
    "                           how='left')"
   ]
  },
  {
   "cell_type": "code",
   "execution_count": 129,
   "metadata": {},
   "outputs": [],
   "source": [
    "# fillna for catboost with the most frequent value \n",
    "test_feat = test_feat.fillna(X_train.mode().iloc[0])"
   ]
  },
  {
   "cell_type": "code",
   "execution_count": 130,
   "metadata": {},
   "outputs": [],
   "source": [
    "X_test, y_test = test_feat.drop(drop_col + target_col, axis=1), test_feat['target']"
   ]
  },
  {
   "cell_type": "code",
   "execution_count": 131,
   "metadata": {},
   "outputs": [],
   "source": [
    "X_test = X_test.astype(int)\n",
    "y_test = y_test.astype(int)"
   ]
  },
  {
   "cell_type": "code",
   "execution_count": 132,
   "metadata": {},
   "outputs": [],
   "source": [
    "y_pred = ctb_model.predict_proba(X_test)"
   ]
  },
  {
   "cell_type": "code",
   "execution_count": 133,
   "metadata": {},
   "outputs": [
    {
     "data": {
      "text/plain": [
       "'ROC AUC score = 0.55'"
      ]
     },
     "execution_count": 133,
     "metadata": {},
     "output_type": "execute_result"
    }
   ],
   "source": [
    "# Check catboost classifiers performance\n",
    "f\"ROC AUC score = {roc_auc_score(y_test, y_pred[:, 1]):.2f}\""
   ]
  },
  {
   "cell_type": "code",
   "execution_count": 134,
   "metadata": {},
   "outputs": [],
   "source": [
    "# Keep only users present in train\n",
    "test = df_test[df_test['userId'].isin(lfm_train['userId'].unique())]"
   ]
  },
  {
   "cell_type": "code",
   "execution_count": 136,
   "metadata": {},
   "outputs": [],
   "source": [
    "# We select bigger number of candidates for catboost to range more things\n",
    "top_N = 200\n",
    "\n",
    "lfm_prediction = pd.DataFrame({\n",
    "    'userId': test['userId'].unique()\n",
    "})\n",
    "\n",
    "known_items = lfm_train.groupby('userId')['movieId'].apply(list).to_dict()\n",
    "\n",
    "mapper = generate_lightfm_recs_mapper(\n",
    "    lfm_model, \n",
    "    item_ids=all_cols, \n",
    "    known_items=known_items,\n",
    "    N=top_N,\n",
    "    user_features=None, \n",
    "    item_features=None, \n",
    "    user_mapping=lightfm_mapping['users_mapping'],\n",
    "    item_inv_mapping=lightfm_mapping['items_inv_mapping'],\n",
    "    num_threads=20\n",
    ")\n",
    "\n",
    "lfm_prediction['movieId'] = lfm_prediction['userId'].map(mapper)\n",
    "lfm_prediction = lfm_prediction.explode('movieId').reset_index(drop=True)\n",
    "lfm_prediction['rank'] = lfm_prediction.groupby('userId').cumcount() + 1 "
   ]
  },
  {
   "cell_type": "code",
   "execution_count": 137,
   "metadata": {},
   "outputs": [
    {
     "data": {
      "text/plain": [
       "Precision@1     0.018732\n",
       "Recall@1        0.000323\n",
       "Precision@2     0.021254\n",
       "Recall@2        0.000563\n",
       "Precision@3     0.018972\n",
       "Recall@3        0.000639\n",
       "Precision@4     0.018912\n",
       "Recall@4        0.000786\n",
       "Precision@5     0.017867\n",
       "Recall@5        0.000932\n",
       "Precision@6     0.018612\n",
       "Recall@6        0.001089\n",
       "Precision@7     0.018012\n",
       "Recall@7        0.001153\n",
       "Precision@8     0.017921\n",
       "Recall@8        0.001313\n",
       "Precision@9     0.017291\n",
       "Recall@9        0.001408\n",
       "Precision@10    0.017435\n",
       "Recall@10       0.001582\n",
       "MAP@10          0.003631\n",
       "MRR             0.051341\n",
       "dtype: float64"
      ]
     },
     "execution_count": 137,
     "metadata": {},
     "output_type": "execute_result"
    }
   ],
   "source": [
    "# Get metrics for 1st stage collaborative model\n",
    "lfm_metrics = compute_metrics(test[['userId', 'movieId']],\n",
    "                              lfm_prediction, \n",
    "                              top_N=10)\n",
    "lfm_metrics"
   ]
  },
  {
   "cell_type": "code",
   "execution_count": 138,
   "metadata": {},
   "outputs": [],
   "source": [
    "# Catboost predictions\n",
    "lfm_ctb_prediction = lfm_prediction.copy()\n",
    "\n",
    "# Get features for test set\n",
    "score_feat = lfm_ctb_prediction.merge(df_movies_final[item_col],\n",
    "                                   on=['movieId'],\n",
    "                                   how='left')\n",
    "\n",
    "# fillna for catboost with the most frequent value \n",
    "score_feat = score_feat.fillna(X_train.mode().iloc[0])"
   ]
  },
  {
   "cell_type": "code",
   "execution_count": 139,
   "metadata": {},
   "outputs": [],
   "source": [
    "# Cast to int for catboost training\n",
    "score_feat = score_feat.astype(int)"
   ]
  },
  {
   "cell_type": "code",
   "execution_count": 140,
   "metadata": {},
   "outputs": [
    {
     "data": {
      "text/html": [
       "<div>\n",
       "<style scoped>\n",
       "    .dataframe tbody tr th:only-of-type {\n",
       "        vertical-align: middle;\n",
       "    }\n",
       "\n",
       "    .dataframe tbody tr th {\n",
       "        vertical-align: top;\n",
       "    }\n",
       "\n",
       "    .dataframe thead th {\n",
       "        text-align: right;\n",
       "    }\n",
       "</style>\n",
       "<table border=\"1\" class=\"dataframe\">\n",
       "  <thead>\n",
       "    <tr style=\"text-align: right;\">\n",
       "      <th></th>\n",
       "      <th>userId</th>\n",
       "      <th>movieId</th>\n",
       "      <th>rank</th>\n",
       "      <th>ctb_pred</th>\n",
       "    </tr>\n",
       "  </thead>\n",
       "  <tbody>\n",
       "    <tr>\n",
       "      <th>0</th>\n",
       "      <td>2161</td>\n",
       "      <td>597</td>\n",
       "      <td>1</td>\n",
       "      <td>0.231598</td>\n",
       "    </tr>\n",
       "    <tr>\n",
       "      <th>1</th>\n",
       "      <td>2161</td>\n",
       "      <td>357</td>\n",
       "      <td>2</td>\n",
       "      <td>0.244541</td>\n",
       "    </tr>\n",
       "    <tr>\n",
       "      <th>2</th>\n",
       "      <td>2161</td>\n",
       "      <td>356</td>\n",
       "      <td>3</td>\n",
       "      <td>0.314725</td>\n",
       "    </tr>\n",
       "  </tbody>\n",
       "</table>\n",
       "</div>"
      ],
      "text/plain": [
       "   userId movieId  rank  ctb_pred\n",
       "0    2161     597     1  0.231598\n",
       "1    2161     357     2  0.244541\n",
       "2    2161     356     3  0.314725"
      ]
     },
     "execution_count": 140,
     "metadata": {},
     "output_type": "execute_result"
    }
   ],
   "source": [
    "# Catboost predict_proba will give probability values for ranging data\n",
    "ctb_prediction = ctb_model.predict_proba(score_feat.drop(drop_col+['movieId'], axis=1, errors='ignore'))\n",
    "\n",
    "lfm_ctb_prediction['ctb_pred'] = ctb_prediction[:, 1]\n",
    "lfm_ctb_prediction.head(3)"
   ]
  },
  {
   "cell_type": "code",
   "execution_count": 141,
   "metadata": {},
   "outputs": [
    {
     "data": {
      "text/html": [
       "<div>\n",
       "<style scoped>\n",
       "    .dataframe tbody tr th:only-of-type {\n",
       "        vertical-align: middle;\n",
       "    }\n",
       "\n",
       "    .dataframe tbody tr th {\n",
       "        vertical-align: top;\n",
       "    }\n",
       "\n",
       "    .dataframe thead th {\n",
       "        text-align: right;\n",
       "    }\n",
       "</style>\n",
       "<table border=\"1\" class=\"dataframe\">\n",
       "  <thead>\n",
       "    <tr style=\"text-align: right;\">\n",
       "      <th></th>\n",
       "      <th>userId</th>\n",
       "      <th>movieId</th>\n",
       "      <th>rank</th>\n",
       "    </tr>\n",
       "  </thead>\n",
       "  <tbody>\n",
       "    <tr>\n",
       "      <th>101500</th>\n",
       "      <td>208</td>\n",
       "      <td>457</td>\n",
       "      <td>101</td>\n",
       "    </tr>\n",
       "    <tr>\n",
       "      <th>101472</th>\n",
       "      <td>208</td>\n",
       "      <td>2300</td>\n",
       "      <td>73</td>\n",
       "    </tr>\n",
       "    <tr>\n",
       "      <th>101471</th>\n",
       "      <td>208</td>\n",
       "      <td>1183</td>\n",
       "      <td>72</td>\n",
       "    </tr>\n",
       "    <tr>\n",
       "      <th>101470</th>\n",
       "      <td>208</td>\n",
       "      <td>2918</td>\n",
       "      <td>71</td>\n",
       "    </tr>\n",
       "    <tr>\n",
       "      <th>101469</th>\n",
       "      <td>208</td>\n",
       "      <td>1041</td>\n",
       "      <td>70</td>\n",
       "    </tr>\n",
       "    <tr>\n",
       "      <th>101468</th>\n",
       "      <td>208</td>\n",
       "      <td>3067</td>\n",
       "      <td>69</td>\n",
       "    </tr>\n",
       "    <tr>\n",
       "      <th>101467</th>\n",
       "      <td>208</td>\n",
       "      <td>318</td>\n",
       "      <td>68</td>\n",
       "    </tr>\n",
       "    <tr>\n",
       "      <th>101466</th>\n",
       "      <td>208</td>\n",
       "      <td>1221</td>\n",
       "      <td>67</td>\n",
       "    </tr>\n",
       "    <tr>\n",
       "      <th>101465</th>\n",
       "      <td>208</td>\n",
       "      <td>3504</td>\n",
       "      <td>66</td>\n",
       "    </tr>\n",
       "    <tr>\n",
       "      <th>101464</th>\n",
       "      <td>208</td>\n",
       "      <td>3083</td>\n",
       "      <td>65</td>\n",
       "    </tr>\n",
       "  </tbody>\n",
       "</table>\n",
       "</div>"
      ],
      "text/plain": [
       "        userId movieId  rank\n",
       "101500     208     457   101\n",
       "101472     208    2300    73\n",
       "101471     208    1183    72\n",
       "101470     208    2918    71\n",
       "101469     208    1041    70\n",
       "101468     208    3067    69\n",
       "101467     208     318    68\n",
       "101466     208    1221    67\n",
       "101465     208    3504    66\n",
       "101464     208    3083    65"
      ]
     },
     "execution_count": 141,
     "metadata": {},
     "output_type": "execute_result"
    }
   ],
   "source": [
    "# Sort based on userId\n",
    "lfm_prediction.sort_values(\n",
    "    by=['userId'], ascending=[True]).head(10)"
   ]
  },
  {
   "cell_type": "code",
   "execution_count": 142,
   "metadata": {},
   "outputs": [],
   "source": [
    "# Rerank based on catboost probabilities\n",
    "lfm_ctb_prediction = lfm_ctb_prediction.sort_values(\n",
    "    by=['userId', 'ctb_pred'], ascending=[True, False])\n",
    "lfm_ctb_prediction['rank_ctb'] = lfm_ctb_prediction.groupby('userId').cumcount() + 1"
   ]
  },
  {
   "cell_type": "code",
   "execution_count": 143,
   "metadata": {},
   "outputs": [
    {
     "data": {
      "text/plain": [
       "Precision@1     0.019452\n",
       "Recall@1        0.000297\n",
       "Precision@2     0.025216\n",
       "Recall@2        0.000588\n",
       "Precision@3     0.025456\n",
       "Recall@3        0.000870\n",
       "Precision@4     0.022695\n",
       "Recall@4        0.001222\n",
       "Precision@5     0.021902\n",
       "Recall@5        0.001405\n",
       "Precision@6     0.021614\n",
       "Recall@6        0.001870\n",
       "Precision@7     0.021820\n",
       "Recall@7        0.002119\n",
       "Precision@8     0.021524\n",
       "Recall@8        0.002432\n",
       "Precision@9     0.021534\n",
       "Recall@9        0.002624\n",
       "Precision@10    0.021470\n",
       "Recall@10       0.003521\n",
       "MAP@10          0.003904\n",
       "MRR             0.064812\n",
       "dtype: float64"
      ]
     },
     "execution_count": 143,
     "metadata": {},
     "output_type": "execute_result"
    }
   ],
   "source": [
    "# Metrics for a two-stage model\n",
    "model_2step_metrics = compute_metrics(test[['userId', 'movieId']],\n",
    "                                       lfm_ctb_prediction, \n",
    "                                       top_N=10, \n",
    "                                       rank_col='rank_ctb')\n",
    "model_2step_metrics"
   ]
  },
  {
   "cell_type": "code",
   "execution_count": 144,
   "metadata": {},
   "outputs": [
    {
     "data": {
      "text/html": [
       "<div>\n",
       "<style scoped>\n",
       "    .dataframe tbody tr th:only-of-type {\n",
       "        vertical-align: middle;\n",
       "    }\n",
       "\n",
       "    .dataframe tbody tr th {\n",
       "        vertical-align: top;\n",
       "    }\n",
       "\n",
       "    .dataframe thead th {\n",
       "        text-align: right;\n",
       "    }\n",
       "</style>\n",
       "<table border=\"1\" class=\"dataframe\">\n",
       "  <thead>\n",
       "    <tr style=\"text-align: right;\">\n",
       "      <th></th>\n",
       "      <th>Precision@1</th>\n",
       "      <th>Recall@1</th>\n",
       "      <th>Precision@2</th>\n",
       "      <th>Recall@2</th>\n",
       "      <th>Precision@3</th>\n",
       "      <th>Recall@3</th>\n",
       "      <th>Precision@4</th>\n",
       "      <th>Recall@4</th>\n",
       "      <th>Precision@5</th>\n",
       "      <th>Recall@5</th>\n",
       "      <th>...</th>\n",
       "      <th>Precision@7</th>\n",
       "      <th>Recall@7</th>\n",
       "      <th>Precision@8</th>\n",
       "      <th>Recall@8</th>\n",
       "      <th>Precision@9</th>\n",
       "      <th>Recall@9</th>\n",
       "      <th>Precision@10</th>\n",
       "      <th>Recall@10</th>\n",
       "      <th>MAP@10</th>\n",
       "      <th>MRR</th>\n",
       "    </tr>\n",
       "  </thead>\n",
       "  <tbody>\n",
       "    <tr>\n",
       "      <th>lightfm</th>\n",
       "      <td>0.018732</td>\n",
       "      <td>0.000323</td>\n",
       "      <td>0.021254</td>\n",
       "      <td>0.000563</td>\n",
       "      <td>0.018972</td>\n",
       "      <td>0.000639</td>\n",
       "      <td>0.018912</td>\n",
       "      <td>0.000786</td>\n",
       "      <td>0.017867</td>\n",
       "      <td>0.000932</td>\n",
       "      <td>...</td>\n",
       "      <td>0.018012</td>\n",
       "      <td>0.001153</td>\n",
       "      <td>0.017921</td>\n",
       "      <td>0.001313</td>\n",
       "      <td>0.017291</td>\n",
       "      <td>0.001408</td>\n",
       "      <td>0.017435</td>\n",
       "      <td>0.001582</td>\n",
       "      <td>0.003631</td>\n",
       "      <td>0.051341</td>\n",
       "    </tr>\n",
       "    <tr>\n",
       "      <th>model_2step</th>\n",
       "      <td>0.019452</td>\n",
       "      <td>0.000297</td>\n",
       "      <td>0.025216</td>\n",
       "      <td>0.000588</td>\n",
       "      <td>0.025456</td>\n",
       "      <td>0.000870</td>\n",
       "      <td>0.022695</td>\n",
       "      <td>0.001222</td>\n",
       "      <td>0.021902</td>\n",
       "      <td>0.001405</td>\n",
       "      <td>...</td>\n",
       "      <td>0.021820</td>\n",
       "      <td>0.002119</td>\n",
       "      <td>0.021524</td>\n",
       "      <td>0.002432</td>\n",
       "      <td>0.021534</td>\n",
       "      <td>0.002624</td>\n",
       "      <td>0.021470</td>\n",
       "      <td>0.003521</td>\n",
       "      <td>0.003904</td>\n",
       "      <td>0.064812</td>\n",
       "    </tr>\n",
       "  </tbody>\n",
       "</table>\n",
       "<p>2 rows × 22 columns</p>\n",
       "</div>"
      ],
      "text/plain": [
       "             Precision@1  Recall@1  Precision@2  Recall@2  Precision@3  \\\n",
       "lightfm         0.018732  0.000323     0.021254  0.000563     0.018972   \n",
       "model_2step     0.019452  0.000297     0.025216  0.000588     0.025456   \n",
       "\n",
       "             Recall@3  Precision@4  Recall@4  Precision@5  Recall@5  ...  \\\n",
       "lightfm      0.000639     0.018912  0.000786     0.017867  0.000932  ...   \n",
       "model_2step  0.000870     0.022695  0.001222     0.021902  0.001405  ...   \n",
       "\n",
       "             Precision@7  Recall@7  Precision@8  Recall@8  Precision@9  \\\n",
       "lightfm         0.018012  0.001153     0.017921  0.001313     0.017291   \n",
       "model_2step     0.021820  0.002119     0.021524  0.002432     0.021534   \n",
       "\n",
       "             Recall@9  Precision@10  Recall@10    MAP@10       MRR  \n",
       "lightfm      0.001408      0.017435   0.001582  0.003631  0.051341  \n",
       "model_2step  0.002624      0.021470   0.003521  0.003904  0.064812  \n",
       "\n",
       "[2 rows x 22 columns]"
      ]
     },
     "execution_count": 144,
     "metadata": {},
     "output_type": "execute_result"
    }
   ],
   "source": [
    "# Compare two metrics\n",
    "df_metrics = pd.concat([\n",
    "    pd.DataFrame(lfm_metrics).transpose(),\n",
    "    pd.DataFrame(model_2step_metrics).transpose()\n",
    "])\n",
    "\n",
    "df_metrics.index = ['lightfm', 'model_2step']\n",
    "\n",
    "df_metrics"
   ]
  },
  {
   "cell_type": "code",
   "execution_count": 145,
   "metadata": {},
   "outputs": [
    {
     "data": {
      "image/png": "[encoded data removed]",
      "text/plain": [
       "<Figure size 504x1080 with 2 Axes>"
      ]
     },
     "metadata": {
      "needs_background": "light"
     },
     "output_type": "display_data"
    }
   ],
   "source": [
    "# Visualize metrics of two models\n",
    "fig, axes = plt.subplots(ncols=1, nrows=2, figsize=(7, 15))\n",
    "\n",
    "for indx, metric in enumerate([f'Recall@', f'Precision@']):\n",
    "    for model in df_metrics.index:\n",
    "        axes[indx].plot(range(1, 11), \n",
    "                        df_metrics.loc[model][[metric+f'{k}' for k in range(1, 11)]].values,\n",
    "                        label=model, marker='o')\n",
    "        axes[indx].legend()\n",
    "        axes[indx].set_title(f'{metric}k')\n",
    "        axes[indx].set_xlabel('k')"
   ]
  },
  {
   "cell_type": "markdown",
   "metadata": {},
   "source": [
    "##### Conclusion\n",
    "- as we can see using two stage hybrid model outperforms matrix factorization method across all metrics\n",
    "\n",
    "##### Further Possible Improvements\n",
    "- there were a lot of hyperparameters besides the hyperparameters of the models (e.g. train-valida-test split, threshhold for reducing data dimension); further hyperparameters searches for these values would probably be beneficial\n",
    "- at the first stage we can have multiple simple models that can be fed to the catboost as additional features; training few more simple models would be beneficial\n",
    "- genome tags feature selection can be improved and some better features can be picked/generated\n",
    "- consider other metrics for evaluation like novelty"
   ]
  }
 ],
 "metadata": {
  "interpreter": {
   "hash": "990518952cfb8000ab18cacbdd851a04470ae543ed4c253a6c2c38e18c8445f1"
  },
  "kernelspec": {
   "display_name": "Python 3.9.4 ('main')",
   "language": "python",
   "name": "python3"
  },
  "language_info": {
   "codemirror_mode": {
    "name": "ipython",
    "version": 3
   },
   "file_extension": ".py",
   "mimetype": "text/x-python",
   "name": "python",
   "nbconvert_exporter": "python",
   "pygments_lexer": "ipython3",
   "version": "3.9.4"
  },
  "orig_nbformat": 4
 },
 "nbformat": 4,
 "nbformat_minor": 2
}
